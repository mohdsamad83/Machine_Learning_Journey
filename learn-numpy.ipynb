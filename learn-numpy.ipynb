{
 "cells": [
  {
   "cell_type": "code",
   "execution_count": 1,
   "id": "66dd1448",
   "metadata": {},
   "outputs": [],
   "source": [
    "import numpy as np\n"
   ]
  },
  {
   "cell_type": "code",
   "execution_count": 11,
   "id": "265be306",
   "metadata": {},
   "outputs": [
    {
     "name": "stdout",
     "output_type": "stream",
     "text": [
      "[1 2 3]\n",
      "get the shape:  (3,)\n",
      "get the dimension :  1\n"
     ]
    }
   ],
   "source": [
    "a = np.array([1,2,3])\n",
    "print(a)\n",
    "#get shape\n",
    "# p = a.shape\n",
    "print(\"get the shape: \",a.shape)\n",
    "# #get dimension\n",
    "# g = a.ndim\n",
    "print(\"get the dimension : \",a.ndim)"
   ]
  },
  {
   "cell_type": "code",
   "execution_count": 14,
   "id": "be8b3b5d",
   "metadata": {},
   "outputs": [
    {
     "name": "stdout",
     "output_type": "stream",
     "text": [
      "[[1. 2. 3.]\n",
      " [3. 9. 4.]\n",
      " [3. 9. 6.]]\n",
      "get the shape :  (3, 3)\n",
      "get the dimension :  2\n",
      "datatype is :  float64\n",
      "get itemsize :  8\n",
      "to get the total size :  72\n"
     ]
    }
   ],
   "source": [
    "b = np.array([[1.0,2.0,3],[3.0,9.0,4],[3.0,9.0,6]])\n",
    "print(b)\n",
    "#get shape\n",
    "print(\"get the shape : \",b.shape)\n",
    "\n",
    "#get dimension\n",
    "m=b.ndim\n",
    "print(\"get the dimension : \",m)\n",
    "\n",
    "#Get type\n",
    "print(\"datatype is : \",b.dtype)\n",
    "\n",
    "#get Size\n",
    "b.itemsize\n",
    "print(\"get itemsize : \",b.itemsize)\n",
    "\n",
    "#get total size --> like b.itemsize *b.size\n",
    "b.nbytes\n",
    "print(\"to get the total size : \",b.nbytes)"
   ]
  },
  {
   "cell_type": "markdown",
   "id": "104c1ed0",
   "metadata": {},
   "source": [
    "**Accessing and changing rows and columns**"
   ]
  },
  {
   "cell_type": "code",
   "execution_count": 16,
   "id": "d49970e2",
   "metadata": {},
   "outputs": [
    {
     "name": "stdout",
     "output_type": "stream",
     "text": [
      "[[ 1  2  3  4  5  6]\n",
      " [ 2  4 65  7  8  4]]\n",
      "printing the shape :  (2, 6)\n",
      "to get the specific location element from the arrray :  7\n"
     ]
    }
   ],
   "source": [
    "k = np.array([[1,2,3,4,5,6],[2,4,65,7,8,4]])\n",
    "print(k)\n",
    "print(\"printing the shape : \",k.shape)\n",
    "\n",
    "#get specific item from the array \n",
    "print(\"to get the specific location element from the arrray : \",k[1,3])"
   ]
  },
  {
   "cell_type": "code",
   "execution_count": null,
   "id": "059fb5c7",
   "metadata": {},
   "outputs": [
    {
     "data": {
      "text/plain": [
       "array([ 2,  4, 65,  7,  8,  4])"
      ]
     },
     "execution_count": 51,
     "metadata": {},
     "output_type": "execute_result"
    }
   ],
   "source": [
    "#get a row\n",
    "k[1,:]"
   ]
  },
  {
   "cell_type": "code",
   "execution_count": 52,
   "id": "80b42664",
   "metadata": {},
   "outputs": [
    {
     "data": {
      "text/plain": [
       "array([2, 4])"
      ]
     },
     "execution_count": 52,
     "metadata": {},
     "output_type": "execute_result"
    }
   ],
   "source": [
    "#get a column\n",
    "k[:,1]"
   ]
  },
  {
   "cell_type": "code",
   "execution_count": 54,
   "id": "5633a8f9",
   "metadata": {},
   "outputs": [
    {
     "data": {
      "text/plain": [
       "array([2, 4, 6])"
      ]
     },
     "execution_count": 54,
     "metadata": {},
     "output_type": "execute_result"
    }
   ],
   "source": [
    "#to get somthing like [row, start:end:step]\n",
    "k[0,1:6:2]"
   ]
  },
  {
   "cell_type": "code",
   "execution_count": 60,
   "id": "086675c3",
   "metadata": {},
   "outputs": [
    {
     "name": "stdout",
     "output_type": "stream",
     "text": [
      "[[  1 -22   3   0   5   6]\n",
      " [  2   4  65   0   8   4]]\n"
     ]
    },
    {
     "data": {
      "text/plain": [
       "array([[  1, -22,   3,   0,   5,   6],\n",
       "       [  2,   4,  65,   0,   8,   4]])"
      ]
     },
     "execution_count": 60,
     "metadata": {},
     "output_type": "execute_result"
    }
   ],
   "source": [
    "k[0,1] = -22\n",
    "print(k)\n",
    "k[:,3] = [0,0]\n",
    "k"
   ]
  },
  {
   "cell_type": "code",
   "execution_count": 66,
   "id": "5edde00e",
   "metadata": {},
   "outputs": [
    {
     "data": {
      "text/plain": [
       "np.int64(7)"
      ]
     },
     "execution_count": 66,
     "metadata": {},
     "output_type": "execute_result"
    }
   ],
   "source": [
    "#3d \n",
    "m = np.array([[[1,2,3],[2,2,2]],[[3,3,3],[5,5,7]]])\n",
    "m[1,1,2]"
   ]
  },
  {
   "cell_type": "code",
   "execution_count": 67,
   "id": "90a39ea7",
   "metadata": {},
   "outputs": [
    {
     "name": "stdout",
     "output_type": "stream",
     "text": [
      "[[[1 2 3]\n",
      "  [2 2 2]]\n",
      "\n",
      " [[3 3 3]\n",
      "  [5 5 7]]]\n"
     ]
    }
   ],
   "source": [
    "print(m)"
   ]
  },
  {
   "cell_type": "markdown",
   "id": "b0363356",
   "metadata": {},
   "source": [
    "Initialize different types of Arrays\n"
   ]
  },
  {
   "cell_type": "code",
   "execution_count": 71,
   "id": "884c8f2d",
   "metadata": {},
   "outputs": [
    {
     "data": {
      "text/plain": [
       "array([[0., 0., 0.],\n",
       "       [0., 0., 0.],\n",
       "       [0., 0., 0.]])"
      ]
     },
     "execution_count": 71,
     "metadata": {},
     "output_type": "execute_result"
    }
   ],
   "source": [
    "np.zeros((3,3))"
   ]
  },
  {
   "cell_type": "code",
   "execution_count": 72,
   "id": "b4ae6f52",
   "metadata": {},
   "outputs": [
    {
     "data": {
      "text/plain": [
       "array([[1., 1., 1., 1.],\n",
       "       [1., 1., 1., 1.],\n",
       "       [1., 1., 1., 1.],\n",
       "       [1., 1., 1., 1.]])"
      ]
     },
     "execution_count": 72,
     "metadata": {},
     "output_type": "execute_result"
    }
   ],
   "source": [
    "np.ones((4,4))"
   ]
  },
  {
   "cell_type": "code",
   "execution_count": null,
   "id": "b775ac4f",
   "metadata": {},
   "outputs": [
    {
     "data": {
      "text/plain": [
       "array([[100, 100, 100],\n",
       "       [100, 100, 100],\n",
       "       [100, 100, 100]])"
      ]
     },
     "execution_count": 73,
     "metadata": {},
     "output_type": "execute_result"
    }
   ],
   "source": [
    "#get the full desired dimension with values\n",
    "np.full((3,3),100)\n"
   ]
  },
  {
   "cell_type": "code",
   "execution_count": 74,
   "id": "b262a98c",
   "metadata": {},
   "outputs": [
    {
     "data": {
      "text/plain": [
       "array([[[-88, -88, -88],\n",
       "        [-88, -88, -88]],\n",
       "\n",
       "       [[-88, -88, -88],\n",
       "        [-88, -88, -88]]])"
      ]
     },
     "execution_count": 74,
     "metadata": {},
     "output_type": "execute_result"
    }
   ],
   "source": [
    "# any other number full_like\n",
    "np.full_like(m,-88)"
   ]
  },
  {
   "cell_type": "code",
   "execution_count": 84,
   "id": "e4b75165",
   "metadata": {},
   "outputs": [
    {
     "name": "stdout",
     "output_type": "stream",
     "text": [
      "[[74 89 66 17]\n",
      " [ 7 99 84  9]\n",
      " [92 98 34 22]\n",
      " [37 50 86 24]]\n"
     ]
    }
   ],
   "source": [
    "#for some random numbers\n",
    "j = np.random.randint(low=0, high=100, size=(4,4))\n",
    "print(j)"
   ]
  },
  {
   "cell_type": "code",
   "execution_count": 85,
   "id": "711885c0",
   "metadata": {},
   "outputs": [
    {
     "data": {
      "text/plain": [
       "array([[1., 0., 0.],\n",
       "       [0., 1., 0.],\n",
       "       [0., 0., 1.]])"
      ]
     },
     "execution_count": 85,
     "metadata": {},
     "output_type": "execute_result"
    }
   ],
   "source": [
    "#create identity matrix\n",
    "np.identity(3)"
   ]
  },
  {
   "cell_type": "code",
   "execution_count": null,
   "id": "0d8257f2",
   "metadata": {},
   "outputs": [
    {
     "name": "stdout",
     "output_type": "stream",
     "text": [
      "[[1 2 3]\n",
      " [1 2 3]\n",
      " [1 2 3]]\n"
     ]
    }
   ],
   "source": [
    "#repeat an array\n",
    "arr = np.array([[1,2,3]])\n",
    "r1 = np.repeat(arr,3,axis=0)\n",
    "print(r1)"
   ]
  },
  {
   "cell_type": "code",
   "execution_count": 97,
   "id": "7e4d476b",
   "metadata": {},
   "outputs": [
    {
     "name": "stdout",
     "output_type": "stream",
     "text": [
      "[[1. 1. 1. 1. 1.]\n",
      " [1. 1. 1. 1. 1.]\n",
      " [1. 1. 1. 1. 1.]\n",
      " [1. 1. 1. 1. 1.]\n",
      " [1. 1. 1. 1. 1.]]\n",
      "[[0. 0. 0.]\n",
      " [0. 0. 0.]\n",
      " [0. 0. 0.]]\n",
      "[[0. 0. 0.]\n",
      " [0. 9. 0.]\n",
      " [0. 0. 0.]]\n",
      "[[1. 1. 1. 1. 1.]\n",
      " [1. 0. 0. 0. 1.]\n",
      " [1. 0. 9. 0. 1.]\n",
      " [1. 0. 0. 0. 1.]\n",
      " [1. 1. 1. 1. 1.]]\n"
     ]
    }
   ],
   "source": [
    "output = np.ones((5,5))\n",
    "print(output)\n",
    "\n",
    "z = np.zeros((3,3))\n",
    "print(z)\n",
    "z[1,1] = 9\n",
    "print(z)\n",
    "output[1:4,1:4] = z\n",
    "print(output)"
   ]
  },
  {
   "cell_type": "code",
   "execution_count": null,
   "id": "ffe7d793",
   "metadata": {},
   "outputs": [],
   "source": [
    "#Be careful when copying "
   ]
  },
  {
   "cell_type": "code",
   "execution_count": 100,
   "id": "330cdc7d",
   "metadata": {},
   "outputs": [
    {
     "name": "stdout",
     "output_type": "stream",
     "text": [
      "[100   2   3]\n",
      "[100   2   3]\n",
      "[100   2   3]\n",
      "[100   2  -1]\n"
     ]
    }
   ],
   "source": [
    "a = np.array([1,2,3])\n",
    "b = a\n",
    "b[0] = 100\n",
    "print(a)\n",
    "print(b)\n",
    "#instead do this\n",
    "b = a.copy()\n",
    "b[2] = -1\n",
    "print(a)\n",
    "print(b)"
   ]
  },
  {
   "cell_type": "code",
   "execution_count": null,
   "id": "8c5df0c6",
   "metadata": {},
   "outputs": [],
   "source": []
  }
 ],
 "metadata": {
  "kernelspec": {
   "display_name": "Python 3",
   "language": "python",
   "name": "python3"
  },
  "language_info": {
   "codemirror_mode": {
    "name": "ipython",
    "version": 3
   },
   "file_extension": ".py",
   "mimetype": "text/x-python",
   "name": "python",
   "nbconvert_exporter": "python",
   "pygments_lexer": "ipython3",
   "version": "3.13.1"
  }
 },
 "nbformat": 4,
 "nbformat_minor": 5
}
