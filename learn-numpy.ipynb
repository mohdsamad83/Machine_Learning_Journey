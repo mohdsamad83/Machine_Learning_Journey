{
 "cells": [
  {
   "cell_type": "code",
   "execution_count": 2,
   "id": "66dd1448",
   "metadata": {},
   "outputs": [],
   "source": [
    "import numpy as np\n"
   ]
  },
  {
   "cell_type": "code",
   "execution_count": 11,
   "id": "265be306",
   "metadata": {},
   "outputs": [
    {
     "name": "stdout",
     "output_type": "stream",
     "text": [
      "[1 2 3]\n",
      "get the shape:  (3,)\n",
      "get the dimension :  1\n"
     ]
    }
   ],
   "source": [
    "a = np.array([1,2,3])\n",
    "print(a)\n",
    "#get shape\n",
    "# p = a.shape\n",
    "print(\"get the shape: \",a.shape)\n",
    "# #get dimension\n",
    "# g = a.ndim\n",
    "print(\"get the dimension : \",a.ndim)"
   ]
  },
  {
   "cell_type": "code",
   "execution_count": 14,
   "id": "be8b3b5d",
   "metadata": {},
   "outputs": [
    {
     "name": "stdout",
     "output_type": "stream",
     "text": [
      "[[1. 2. 3.]\n",
      " [3. 9. 4.]\n",
      " [3. 9. 6.]]\n",
      "get the shape :  (3, 3)\n",
      "get the dimension :  2\n",
      "datatype is :  float64\n",
      "get itemsize :  8\n",
      "to get the total size :  72\n"
     ]
    }
   ],
   "source": [
    "b = np.array([[1.0,2.0,3],[3.0,9.0,4],[3.0,9.0,6]])\n",
    "print(b)\n",
    "#get shape\n",
    "print(\"get the shape : \",b.shape)\n",
    "\n",
    "#get dimension\n",
    "m=b.ndim\n",
    "print(\"get the dimension : \",m)\n",
    "\n",
    "#Get type\n",
    "print(\"datatype is : \",b.dtype)\n",
    "\n",
    "#get Size\n",
    "b.itemsize\n",
    "print(\"get itemsize : \",b.itemsize)\n",
    "\n",
    "#get total size --> like b.itemsize *b.size\n",
    "b.nbytes\n",
    "print(\"to get the total size : \",b.nbytes)"
   ]
  },
  {
   "cell_type": "markdown",
   "id": "104c1ed0",
   "metadata": {},
   "source": [
    "**Accessing and changing rows and columns**"
   ]
  },
  {
   "cell_type": "code",
   "execution_count": 3,
   "id": "d49970e2",
   "metadata": {},
   "outputs": [
    {
     "name": "stdout",
     "output_type": "stream",
     "text": [
      "[[ 1  2  3  4  5  6]\n",
      " [ 2  4 65  7  8  4]]\n",
      "printing the shape :  (2, 6)\n",
      "to get the specific location element from the arrray :  7\n"
     ]
    }
   ],
   "source": [
    "k = np.array([[1,2,3,4,5,6],[2,4,65,7,8,4]])\n",
    "print(k)\n",
    "print(\"printing the shape : \",k.shape)\n",
    "\n",
    "#get specific item from the array \n",
    "print(\"to get the specific location element from the arrray : \",k[1,3])"
   ]
  },
  {
   "cell_type": "code",
   "execution_count": 4,
   "id": "059fb5c7",
   "metadata": {},
   "outputs": [
    {
     "data": {
      "text/plain": [
       "array([ 2,  4, 65,  7,  8,  4])"
      ]
     },
     "execution_count": 4,
     "metadata": {},
     "output_type": "execute_result"
    }
   ],
   "source": [
    "#get a row\n",
    "k[1,:]"
   ]
  },
  {
   "cell_type": "code",
   "execution_count": 5,
   "id": "80b42664",
   "metadata": {},
   "outputs": [
    {
     "data": {
      "text/plain": [
       "array([2, 4])"
      ]
     },
     "execution_count": 5,
     "metadata": {},
     "output_type": "execute_result"
    }
   ],
   "source": [
    "#get a column\n",
    "k[:,1]"
   ]
  },
  {
   "cell_type": "code",
   "execution_count": 6,
   "id": "5633a8f9",
   "metadata": {},
   "outputs": [
    {
     "data": {
      "text/plain": [
       "array([2, 4, 6])"
      ]
     },
     "execution_count": 6,
     "metadata": {},
     "output_type": "execute_result"
    }
   ],
   "source": [
    "#to get somthing like [row, start:end:step]\n",
    "k[0,1:6:2]"
   ]
  },
  {
   "cell_type": "code",
   "execution_count": 7,
   "id": "086675c3",
   "metadata": {},
   "outputs": [
    {
     "name": "stdout",
     "output_type": "stream",
     "text": [
      "[[  1 -22   3   4   5   6]\n",
      " [  2   4  65   7   8   4]]\n"
     ]
    },
    {
     "data": {
      "text/plain": [
       "array([[  1, -22,   3,   0,   5,   6],\n",
       "       [  2,   4,  65,   0,   8,   4]])"
      ]
     },
     "execution_count": 7,
     "metadata": {},
     "output_type": "execute_result"
    }
   ],
   "source": [
    "k[0,1] = -22\n",
    "print(k)\n",
    "k[:,3] = [0,0]\n",
    "k"
   ]
  },
  {
   "cell_type": "code",
   "execution_count": 8,
   "id": "5edde00e",
   "metadata": {},
   "outputs": [
    {
     "data": {
      "text/plain": [
       "np.int64(7)"
      ]
     },
     "execution_count": 8,
     "metadata": {},
     "output_type": "execute_result"
    }
   ],
   "source": [
    "#3d \n",
    "m = np.array([[[1,2,3],[2,2,2]],[[3,3,3],[5,5,7]]])\n",
    "m[1,1,2]"
   ]
  },
  {
   "cell_type": "code",
   "execution_count": 20,
   "id": "90a39ea7",
   "metadata": {},
   "outputs": [
    {
     "name": "stdout",
     "output_type": "stream",
     "text": [
      "[[[1 2 3]\n",
      "  [2 2 2]]\n",
      "\n",
      " [[3 3 3]\n",
      "  [5 5 7]]]\n",
      "(2, 2, 3)\n"
     ]
    }
   ],
   "source": [
    "print(m)\n",
    "print(m.shape)"
   ]
  },
  {
   "cell_type": "markdown",
   "id": "b0363356",
   "metadata": {},
   "source": [
    "**Initialize different types of Arrays**\n"
   ]
  },
  {
   "cell_type": "code",
   "execution_count": 10,
   "id": "884c8f2d",
   "metadata": {},
   "outputs": [
    {
     "data": {
      "text/plain": [
       "array([[0., 0., 0.],\n",
       "       [0., 0., 0.],\n",
       "       [0., 0., 0.]])"
      ]
     },
     "execution_count": 10,
     "metadata": {},
     "output_type": "execute_result"
    }
   ],
   "source": [
    "np.zeros((3,3))"
   ]
  },
  {
   "cell_type": "code",
   "execution_count": 11,
   "id": "b4ae6f52",
   "metadata": {},
   "outputs": [
    {
     "data": {
      "text/plain": [
       "array([[1., 1., 1., 1.],\n",
       "       [1., 1., 1., 1.],\n",
       "       [1., 1., 1., 1.],\n",
       "       [1., 1., 1., 1.]])"
      ]
     },
     "execution_count": 11,
     "metadata": {},
     "output_type": "execute_result"
    }
   ],
   "source": [
    "np.ones((4,4))"
   ]
  },
  {
   "cell_type": "code",
   "execution_count": 12,
   "id": "b775ac4f",
   "metadata": {},
   "outputs": [
    {
     "data": {
      "text/plain": [
       "array([[100, 100, 100],\n",
       "       [100, 100, 100],\n",
       "       [100, 100, 100]])"
      ]
     },
     "execution_count": 12,
     "metadata": {},
     "output_type": "execute_result"
    }
   ],
   "source": [
    "#get the full desired dimension with values\n",
    "np.full((3,3),100)\n"
   ]
  },
  {
   "cell_type": "code",
   "execution_count": 14,
   "id": "b262a98c",
   "metadata": {},
   "outputs": [
    {
     "data": {
      "text/plain": [
       "array([[[-88, -88, -88],\n",
       "        [-88, -88, -88]],\n",
       "\n",
       "       [[-88, -88, -88],\n",
       "        [-88, -88, -88]]])"
      ]
     },
     "execution_count": 14,
     "metadata": {},
     "output_type": "execute_result"
    }
   ],
   "source": [
    "# any other number full_like\n",
    "np.full_like(m,-88)"
   ]
  },
  {
   "cell_type": "code",
   "execution_count": 17,
   "id": "e4b75165",
   "metadata": {},
   "outputs": [
    {
     "name": "stdout",
     "output_type": "stream",
     "text": [
      "[[ 5 72 11 30]\n",
      " [88 88  1  5]\n",
      " [34 65 90 94]\n",
      " [21 70 83 69]]\n"
     ]
    }
   ],
   "source": [
    "#for some random numbers\n",
    "j = np.random.randint(low=0, high=100, size=(4,4))\n",
    "print(j)"
   ]
  },
  {
   "cell_type": "code",
   "execution_count": 18,
   "id": "711885c0",
   "metadata": {},
   "outputs": [
    {
     "data": {
      "text/plain": [
       "array([[1., 0., 0.],\n",
       "       [0., 1., 0.],\n",
       "       [0., 0., 1.]])"
      ]
     },
     "execution_count": 18,
     "metadata": {},
     "output_type": "execute_result"
    }
   ],
   "source": [
    "#create identity matrix\n",
    "np.identity(3)"
   ]
  },
  {
   "cell_type": "code",
   "execution_count": 21,
   "id": "0d8257f2",
   "metadata": {},
   "outputs": [
    {
     "name": "stdout",
     "output_type": "stream",
     "text": [
      "[[1 2 3]\n",
      " [1 2 3]\n",
      " [1 2 3]]\n"
     ]
    }
   ],
   "source": [
    "#repeat an array\n",
    "arr = np.array([[1,2,3]])\n",
    "r1 = np.repeat(arr,3,axis=0)\n",
    "print(r1)"
   ]
  },
  {
   "cell_type": "code",
   "execution_count": null,
   "id": "7e4d476b",
   "metadata": {},
   "outputs": [
    {
     "name": "stdout",
     "output_type": "stream",
     "text": [
      "[[1. 1. 1. 1. 1.]\n",
      " [1. 1. 1. 1. 1.]\n",
      " [1. 1. 1. 1. 1.]\n",
      " [1. 1. 1. 1. 1.]\n",
      " [1. 1. 1. 1. 1.]]\n",
      "[[0. 0. 0.]\n",
      " [0. 0. 0.]\n",
      " [0. 0. 0.]]\n",
      "[[0. 0. 0.]\n",
      " [0. 9. 0.]\n",
      " [0. 0. 0.]]\n",
      "[[1. 1. 1. 1. 1.]\n",
      " [1. 0. 0. 0. 1.]\n",
      " [1. 0. 9. 0. 1.]\n",
      " [1. 0. 0. 0. 1.]\n",
      " [1. 1. 1. 1. 1.]]\n"
     ]
    }
   ],
   "source": [
    "# creating 5*5 matrix\n",
    "output = np.ones((5,5))\n",
    "print(output)\n",
    "\n",
    "#creating 3*3 matrix\n",
    "z = np.zeros((3,3))\n",
    "print(z)\n",
    "\n",
    "#replacing the centre element with 9\n",
    "z[1,1] = 9\n",
    "print(z)\n",
    "\n",
    "#now replacing the old one inner matrix with the new desired matrix\n",
    "output[1:4,1:4] = z\n",
    "print(output)"
   ]
  },
  {
   "cell_type": "markdown",
   "id": "31755e09",
   "metadata": {},
   "source": [
    "**Be careful when copying** "
   ]
  },
  {
   "cell_type": "code",
   "execution_count": 23,
   "id": "330cdc7d",
   "metadata": {},
   "outputs": [
    {
     "name": "stdout",
     "output_type": "stream",
     "text": [
      "[100   2   3]\n",
      "[100   2   3]\n",
      "[100   2   3]\n",
      "[100   2  -1]\n"
     ]
    }
   ],
   "source": [
    "a = np.array([1,2,3])\n",
    "b = a\n",
    "b[0] = 100\n",
    "print(a)\n",
    "print(b)\n",
    "\n",
    "#instead do this\n",
    "b = a.copy()\n",
    "b[2] = -1\n",
    "print(a)\n",
    "print(b)"
   ]
  },
  {
   "cell_type": "markdown",
   "id": "2685f38c",
   "metadata": {},
   "source": [
    "**Mathematics using Numpy**"
   ]
  },
  {
   "cell_type": "code",
   "execution_count": 32,
   "id": "8c5df0c6",
   "metadata": {},
   "outputs": [
    {
     "name": "stdout",
     "output_type": "stream",
     "text": [
      "[1 1 1]\n",
      "adding a number throughtout :  [3 3 3]\n",
      "multiplying the no. throughout  [2 2 2]\n",
      "can add to array :  [4 4 4]\n",
      "tan of a array:  [1.55740772 1.55740772 1.55740772] [-0.14254654 -0.14254654 -0.14254654]\n"
     ]
    }
   ],
   "source": [
    "a = np.array([1,1,1])\n",
    "print(a)\n",
    "\n",
    "#adding a number throughtout \n",
    "print(\"adding a number throughtout : \",a+2)\n",
    "\n",
    "#multiplying the no. throughout\n",
    "print(\"multiplying the no. throughout \",a*2)\n",
    "\n",
    "#all arthematic possible\n",
    "\n",
    "#can add to arrays\n",
    "b = np.array([3,3,3])\n",
    "print(\"can add to array : \",a + b)\n",
    "\n",
    "#tan of a array\n",
    "print(\"tan of a array: \",np.tan(a),np.tan(b))"
   ]
  },
  {
   "cell_type": "markdown",
   "id": "26330864",
   "metadata": {},
   "source": [
    "**Linear Algebra**"
   ]
  },
  {
   "cell_type": "code",
   "execution_count": 46,
   "id": "91baabba",
   "metadata": {},
   "outputs": [
    {
     "name": "stdout",
     "output_type": "stream",
     "text": [
      "[[4 4]\n",
      " [4 4]\n",
      " [4 4]]\n",
      "[[7 7 7 7]\n",
      " [7 7 7 7]]\n",
      "\n",
      " multiplying two matrices :\n",
      " \n"
     ]
    },
    {
     "data": {
      "text/plain": [
       "array([[56, 56, 56, 56],\n",
       "       [56, 56, 56, 56],\n",
       "       [56, 56, 56, 56]])"
      ]
     },
     "execution_count": 46,
     "metadata": {},
     "output_type": "execute_result"
    }
   ],
   "source": [
    "#lets defin two matrices\n",
    "a = np.full((3,2),4)\n",
    "print(a)\n",
    "\n",
    "b = np.full((2,4),7)\n",
    "print(b)\n",
    "\n",
    "print(\"\\n multiplying two matrices :\\n \")\n",
    "np.matmul(a,b)"
   ]
  },
  {
   "cell_type": "code",
   "execution_count": 48,
   "id": "2db6b6bc",
   "metadata": {},
   "outputs": [
    {
     "name": "stdout",
     "output_type": "stream",
     "text": [
      "[[1. 0. 0.]\n",
      " [0. 1. 0.]\n",
      " [0. 0. 1.]]\n",
      "det of c\n"
     ]
    },
    {
     "data": {
      "text/plain": [
       "np.float64(1.0)"
      ]
     },
     "execution_count": 48,
     "metadata": {},
     "output_type": "execute_result"
    }
   ],
   "source": [
    "#find the determinant\n",
    "c = np.identity(3)\n",
    "print(c)\n",
    "\n",
    "print(\"det of c\")\n",
    "np.linalg.det(c)"
   ]
  },
  {
   "cell_type": "markdown",
   "id": "eba43d6b",
   "metadata": {},
   "source": [
    "**Statistics**"
   ]
  },
  {
   "cell_type": "code",
   "execution_count": 57,
   "id": "23706285",
   "metadata": {},
   "outputs": [
    {
     "name": "stdout",
     "output_type": "stream",
     "text": [
      "[[ 1  2  3]\n",
      " [24 53  6]]\n",
      "min :  1\n",
      "max :  53\n",
      "average :  14.833333333333334\n",
      "median :  4.5\n",
      "sum :  [ 6 83]\n"
     ]
    }
   ],
   "source": [
    "a = np.array([[1,2,3],[24,53,6]])\n",
    "print(a)\n",
    "\n",
    "print(\"min : \",np.min(a))\n",
    "print(\"max : \",np.max(a))\n",
    "print(\"average : \",np.average(a))\n",
    "print(\"median : \", np.median(a))\n",
    "print(\"sum : \", np.sum(a,axis=1))"
   ]
  },
  {
   "cell_type": "markdown",
   "id": "6bd33636",
   "metadata": {},
   "source": [
    "**Reorganizing arrray**"
   ]
  },
  {
   "cell_type": "code",
   "execution_count": 62,
   "id": "38c92de3",
   "metadata": {},
   "outputs": [
    {
     "name": "stdout",
     "output_type": "stream",
     "text": [
      "[[1 2 3 1]\n",
      " [2 1 4 6]]\n"
     ]
    }
   ],
   "source": [
    "before = np.array([[1,2,3,1],[2,1,4,6]])\n",
    "print(before)\n",
    "\n",
    "after = before.reshape(2,2,2)"
   ]
  },
  {
   "cell_type": "code",
   "execution_count": null,
   "id": "8cc90c01",
   "metadata": {},
   "outputs": [
    {
     "name": "stdout",
     "output_type": "stream",
     "text": [
      "[[1 2 3]\n",
      " [4 5 6]]\n"
     ]
    }
   ],
   "source": [
    "#vertical stalking vectors\n",
    "a = np.array([1,2,3])\n",
    "b = np.array([4,5,6])\n",
    "\n",
    "print(np.vstack([a,b]))"
   ]
  },
  {
   "cell_type": "code",
   "execution_count": 71,
   "id": "426636f0",
   "metadata": {},
   "outputs": [
    {
     "name": "stdout",
     "output_type": "stream",
     "text": [
      "[[0. 0. 0.]\n",
      " [0. 0. 0.]]\n",
      "[[1. 1. 1. 1.]\n",
      " [1. 1. 1. 1.]]\n",
      "[[0. 0. 0. 1. 1. 1. 1.]\n",
      " [0. 0. 0. 1. 1. 1. 1.]]\n"
     ]
    }
   ],
   "source": [
    "#horizontal stacking \n",
    "h1 = np.zeros((2,3))\n",
    "print(h1)\n",
    "h2 = np.ones((2,4))\n",
    "print(h2)\n",
    "print(np.hstack((h1, h2)))"
   ]
  },
  {
   "cell_type": "markdown",
   "id": "e380183f",
   "metadata": {},
   "source": [
    "**Test Time**"
   ]
  },
  {
   "cell_type": "markdown",
   "id": "77532527",
   "metadata": {},
   "source": [
    "Creating an array "
   ]
  },
  {
   "cell_type": "code",
   "execution_count": 5,
   "id": "f3ae271a",
   "metadata": {},
   "outputs": [
    {
     "name": "stdout",
     "output_type": "stream",
     "text": [
      "1 dimentional array:  [1 2 3]\n",
      "shows the dimension :  1\n",
      "[[1 1 1]\n",
      " [2 2 2]] (2, 3)\n"
     ]
    }
   ],
   "source": [
    "import numpy as np\n",
    "a = np.array([1,2,3])\n",
    "b = np.array([[1,1,1],[2,2,2]])\n",
    "print(\"1 dimentional array: \", a)\n",
    "print(\"shows the dimension : \",a.ndim)\n",
    "\n",
    "print(b,b.shape)"
   ]
  },
  {
   "cell_type": "markdown",
   "id": "d8f40fdb",
   "metadata": {},
   "source": [
    "Slicing & Indexing"
   ]
  },
  {
   "cell_type": "code",
   "execution_count": null,
   "id": "3a46fdf4",
   "metadata": {},
   "outputs": [
    {
     "name": "stdout",
     "output_type": "stream",
     "text": [
      "[2 3]\n",
      "2\n"
     ]
    }
   ],
   "source": [
    "#printing from an index till end\n",
    "print(a[1:,])\n",
    "\n",
    "#printing selected \n",
    "print(b[1,2]) # second row third column element\n"
   ]
  },
  {
   "cell_type": "markdown",
   "id": "d40b3710",
   "metadata": {},
   "source": [
    "Vectorized Ops"
   ]
  },
  {
   "cell_type": "code",
   "execution_count": 17,
   "id": "c14478ec",
   "metadata": {},
   "outputs": [
    {
     "name": "stdout",
     "output_type": "stream",
     "text": [
      "[2 4 6]\n"
     ]
    }
   ],
   "source": [
    "print(a *2)\n"
   ]
  },
  {
   "cell_type": "code",
   "execution_count": 22,
   "id": "9a06091e",
   "metadata": {},
   "outputs": [
    {
     "name": "stdout",
     "output_type": "stream",
     "text": [
      "[[5. 7.]\n",
      " [5. 7.]]\n",
      "[[5. 7.]\n",
      " [5. 7.]]\n"
     ]
    }
   ],
   "source": [
    "#Matrix Multiplication\n",
    "\n",
    "m = np.ones([2,2])\n",
    "n = np.array([[2,3],[3,4]])\n",
    "\n",
    "k = np.dot(m,n)\n",
    "print(k)\n",
    "\n",
    "#or\n",
    "\n",
    "print(np.matmul(m,n))"
   ]
  },
  {
   "cell_type": "markdown",
   "id": "da5887a8",
   "metadata": {},
   "source": [
    "Stats Ops"
   ]
  },
  {
   "cell_type": "code",
   "execution_count": 23,
   "id": "7798a46c",
   "metadata": {},
   "outputs": [
    {
     "name": "stdout",
     "output_type": "stream",
     "text": [
      "3.0\n"
     ]
    }
   ],
   "source": [
    "print(np.mean(n))"
   ]
  },
  {
   "cell_type": "markdown",
   "id": "aa9b109b",
   "metadata": {},
   "source": [
    "Reshape/Transpose"
   ]
  },
  {
   "cell_type": "code",
   "execution_count": 26,
   "id": "6e7dfb80",
   "metadata": {},
   "outputs": [
    {
     "name": "stdout",
     "output_type": "stream",
     "text": [
      "[1. 1. 1. 1.]\n"
     ]
    }
   ],
   "source": [
    "# Reshape m to a 1D array (flatten)\n",
    "print(np.reshape(m, -1))"
   ]
  }
 ],
 "metadata": {
  "kernelspec": {
   "display_name": "Python 3",
   "language": "python",
   "name": "python3"
  },
  "language_info": {
   "codemirror_mode": {
    "name": "ipython",
    "version": 3
   },
   "file_extension": ".py",
   "mimetype": "text/x-python",
   "name": "python",
   "nbconvert_exporter": "python",
   "pygments_lexer": "ipython3",
   "version": "3.13.1"
  }
 },
 "nbformat": 4,
 "nbformat_minor": 5
}
